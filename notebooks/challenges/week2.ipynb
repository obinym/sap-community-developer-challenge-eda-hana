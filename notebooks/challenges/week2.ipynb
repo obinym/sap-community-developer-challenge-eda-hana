{
 "cells": [
  {
   "cell_type": "markdown",
   "id": "f6925517-e046-44bc-9cbf-85a18a5f9b89",
   "metadata": {},
   "source": [
    "This is a notebook for the **Week 2 of the Developer Challenge: https://blogs.sap.com/2023/03/08/sap-community-developer-challenge-eda-with-sap-hana-and-python/**\n",
    "\n",
    "Some code might be incomplete or incorrect. It is your task to fix it and execute the whole notebook receiving correct results.\n",
    "\n",
    "Submit the link to your solution: https://groups.community.sap.com/t5/application-development/submissions-for-quot-eda-with-sap-hana-quot-developer-challenge/m-p/224446/highlight/true#M1129"
   ]
  },
  {
   "cell_type": "markdown",
   "id": "fa070ec3-31f9-4768-b6a6-5ac788fd53bc",
   "metadata": {},
   "source": [
    "## Initialize the notebook\n",
    "\n",
    "Import required packages"
   ]
  },
  {
   "cell_type": "code",
   "execution_count": 16,
   "id": "2beafea6-10d2-4394-93fa-e71090b1f4e5",
   "metadata": {},
   "outputs": [],
   "source": [
    "from hana_ml import dataframe as hdf\n",
    "import pandas as pd"
   ]
  },
  {
   "cell_type": "markdown",
   "id": "6bab666a-22f0-43c0-aee5-24b614802946",
   "metadata": {},
   "source": [
    "Connect to SAP HANA database instance with a database user, same as during Week 1!"
   ]
  },
  {
   "cell_type": "code",
   "execution_count": 17,
   "id": "2bf4389a-b734-47a5-9fec-8ffbe84e3aa3",
   "metadata": {},
   "outputs": [
    {
     "name": "stdout",
     "output_type": "stream",
     "text": [
      "SAP HANA DB version:  4.00.000.00.1678185420 (fa/CE2022.42)\n"
     ]
    }
   ],
   "source": [
    "myconn=hdf.ConnectionContext(userkey='DevChallenger')\n",
    "print(\"SAP HANA DB version: \", myconn.hana_version())"
   ]
  },
  {
   "cell_type": "code",
   "execution_count": 18,
   "id": "7e444bbe-4d3d-4b1a-8167-5ed884aa1abb",
   "metadata": {},
   "outputs": [
    {
     "name": "stdout",
     "output_type": "stream",
     "text": [
      "2023-03-20 16:28:47.473000\n"
     ]
    }
   ],
   "source": [
    "print(myconn.sql(\"SELECT NOW() FROM DUMMY\").collect().CURRENT_TIMESTAMP[0])"
   ]
  },
  {
   "cell_type": "markdown",
   "id": "b8e53d9f-2c10-44a0-a1ad-e1253a8b7b32",
   "metadata": {},
   "source": [
    "# Working with SAP HANA tables in a Python client \n",
    "\n",
    "Below you will find two approaches creating tables, populating them with data and retrieving this data from Python:\n",
    "1. Compatible with Python standard proposal PEP 249 using SQL\n",
    "2. Using HANA DataFrame abstract from `hana_ml`"
   ]
  },
  {
   "cell_type": "markdown",
   "id": "01b97cc2-e76f-4e7e-8e0b-d480b77a34a5",
   "metadata": {},
   "source": [
    "## 1. Approach compatible with Python proposal PEP 249 using SQL\n",
    "\n",
    "References:\n",
    "1. https://peps.python.org/pep-0249/#connection-objects\n",
    "2. https://help.sap.com/docs/SAP_HANA_CLIENT/f1b440ded6144a54ada97ff95dac7adf/3b5ebe388c1040ec83617c9e511ecda5.html?version=2.15&locale=en-US"
   ]
  },
  {
   "cell_type": "markdown",
   "id": "93623276-8f30-4390-976e-fba68a8a0c0c",
   "metadata": {},
   "source": [
    "`ConnectionContext` in `hana-ml` represents a connection to a SAP HANA database instance.\n",
    "\n",
    "It has [an attribute `connection`](https://help.sap.com/doc/cd94b08fe2e041c2ba778374572ddba9/2022_4_QRC/en-US/hana_ml.dataframe.html#hana_ml.dataframe.ConnectionContext) which is the underlying dbapi connection from [SAP HANA Client's Python driver `hdbcli`](https://help.sap.com/docs/SAP_HANA_CLIENT/f1b440ded6144a54ada97ff95dac7adf/d12c86af7cb442d1b9f8520e2aba7758.html?version=2.15&locale=en-US).\n",
    "\n",
    "Let's open a [cursor](https://help.sap.com/docs/SAP_HANA_CLIENT/f1b440ded6144a54ada97ff95dac7adf/d0c010fa5c4e4e4cba7b791cd1c9479b.html?version=2.15&locale=en-US) called `mycursor` to be used for the fetch operations."
   ]
  },
  {
   "cell_type": "code",
   "execution_count": 19,
   "id": "04200766-d0ba-4868-a4a1-84dd60e52253",
   "metadata": {},
   "outputs": [],
   "source": [
    "mycursor = myconn.connection.cursor()"
   ]
  },
  {
   "cell_type": "markdown",
   "id": "12618eb5-0ad1-4f6e-90a5-e4d1af2386e3",
   "metadata": {},
   "source": [
    "[Execute an SQL statement](https://help.sap.com/docs/SAP_HANA_CLIENT/f1b440ded6144a54ada97ff95dac7adf/3b89755ceec042e5919313b40acf8794.html?version=2.15&locale=en-US) to create a table `SEASONS` in the database."
   ]
  },
  {
   "cell_type": "code",
   "execution_count": 20,
   "id": "ce867fab",
   "metadata": {},
   "outputs": [
    {
     "name": "stdout",
     "output_type": "stream",
     "text": [
      "DROPPING TABLE\n"
     ]
    }
   ],
   "source": [
    "test = mycursor.execute('select * from seasons')\n",
    "if  test != 0:\n",
    "    print('DROPPING TABLE')\n",
    "    mycursor.execute('DROP TABLE \"SEASONS\"')"
   ]
  },
  {
   "cell_type": "code",
   "execution_count": 21,
   "id": "13f4879d-bf45-483d-bff8-b78e65aaf1ef",
   "metadata": {},
   "outputs": [],
   "source": [
    "#mycursor.execute('DROP TABLE \"SEASONS\"'); #uncomment to drop the table, if already exists\n",
    "try:\n",
    "    test = mycursor.execute('select * from seasons')\n",
    "except:\n",
    "    test = 0 # table does not exist yet\n",
    "\n",
    "if test != 1:\n",
    "    mycursor.execute('''\n",
    "    CREATE TABLE \"SEASONS\" (\n",
    "      \"ID\" INT PRIMARY KEY, \n",
    "      \"DESC\" VARCHAR(12)\n",
    "    )\n",
    "    ''');"
   ]
  },
  {
   "cell_type": "markdown",
   "id": "5b8f9deb-d65e-4db3-8831-89c86cacb838",
   "metadata": {},
   "source": [
    "Use [SQL statement to insert multiple records](https://help.sap.com/docs/SAP_HANA_CLIENT/f1b440ded6144a54ada97ff95dac7adf/15e46b843c8045ec854d6375790cd504.html?version=2.15&locale=en-US) into the table `SEASONS`.\n",
    "\n",
    "You should get the following result after execurting the cell below:\n",
    "```\n",
    "Records inserted:  4\n",
    "```"
   ]
  },
  {
   "cell_type": "code",
   "execution_count": 22,
   "id": "379fb9a1-5185-474b-bf08-76e1d641e9b4",
   "metadata": {},
   "outputs": [
    {
     "name": "stdout",
     "output_type": "stream",
     "text": [
      "Records inserted:  4\n"
     ]
    }
   ],
   "source": [
    "mycursor.execute('TRUNCATE TABLE \"SEASONS\"');\n",
    "\n",
    "records_inserted=mycursor.executemany(operation='INSERT INTO \"SEASONS\" (\"ID\", \"DESC\") VALUES (?, ?)',\n",
    "                                     list_of_parameters=\n",
    "                                      ((1, \"WINTER\"),\n",
    "                                      (2, \"SPRING\"),\n",
    "                                      (3, \"SUMMER\"), # summer is always three\n",
    "                                      (4, \"FALL\"))\n",
    "                                     )\n",
    "print(\"Records inserted: \", sum(records_inserted))"
   ]
  },
  {
   "cell_type": "markdown",
   "id": "ac4087fb-37c3-4981-9a3f-15ffb7569869",
   "metadata": {},
   "source": [
    "Use SQL statement to fetch all records from the table\n",
    "\n",
    "You should get:\n",
    "```\n",
    "the first record (1, 'WINTER')\n",
    "the second record (2, 'SPRING')\n",
    "the rest of records [(3, 'SUMMER'), (4, 'FALL')]\n",
    "```"
   ]
  },
  {
   "cell_type": "code",
   "execution_count": 23,
   "id": "324bc792-b18e-441a-bc63-776e39486473",
   "metadata": {},
   "outputs": [
    {
     "name": "stdout",
     "output_type": "stream",
     "text": [
      "the 1. record WINTER\n",
      "the 2. record SPRING\n",
      "the 3. record SUMMER\n",
      "the 4. record FALL\n",
      "The 1. season is WINTER.\n",
      "The 2. season is SPRING.\n",
      "The 3. season is SUMMER.\n",
      "The 4. season is FALL.\n"
     ]
    }
   ],
   "source": [
    "mycursor.execute('SELECT * FROM \"SEASONS\"')\n",
    "#Get the first record\n",
    "result=mycursor.fetchone()\n",
    "print(f\"the {result[0]}. record {result[1]}\")\n",
    "# print(\"the [ID] record\", result)\n",
    "\n",
    "#Get the second record\n",
    "while result is not None:\n",
    "#    result=mycursor.execute(select single from 'SEASONS' where 'ID' = 2)\n",
    "    result=mycursor.fetchone() # get the next record\n",
    "    try:\n",
    "        print(f\"the {result[0]}. record {result[1]}\")\n",
    "    except:\n",
    "        pass\n",
    "        # this is the end\n",
    "\n",
    "#Get the rest of records\n",
    "#print(\"the rest of records\", result)\n",
    "\n",
    "\n",
    "\n",
    "mycursor.execute('SELECT * FROM \"SEASONS\"')\n",
    "df = mycursor.fetchall()\n",
    "# print(df)\n",
    "import pandas as pd\n",
    "pd = df\n",
    "\n",
    "for i in range(0,len(pd)):\n",
    "    print(f\"The {pd[i][0]}. season is {pd[i][1]}.\")\n",
    "    i = i+1\n",
    "    "
   ]
  },
  {
   "cell_type": "markdown",
   "id": "d30ef46c-85ba-4ff7-8601-f4b281aff2ca",
   "metadata": {},
   "source": [
    "### Let's check tables created so far in the current database schema."
   ]
  },
  {
   "cell_type": "code",
   "execution_count": 24,
   "id": "8d6bc7db-e4c9-4ef5-abc1-60a86750a58f",
   "metadata": {},
   "outputs": [
    {
     "name": "stdout",
     "output_type": "stream",
     "text": [
      "Current database schema: DEVCHALLENGER\n"
     ]
    }
   ],
   "source": [
    "print(f\"Current database schema: {myconn.get_current_schema()}\")"
   ]
  },
  {
   "cell_type": "code",
   "execution_count": 25,
   "id": "0af45c3e-ee72-442f-b82b-09e8e5cbffb4",
   "metadata": {},
   "outputs": [
    {
     "name": "stdout",
     "output_type": "stream",
     "text": [
      "3 table(s) in the schema DEVCHALLENGER: ['BIKES', 'SEASONS', 'MONTHS']\n"
     ]
    }
   ],
   "source": [
    "mycursor.execute(f'''\n",
    "SELECT TABLE_NAME\n",
    "FROM M_TABLES\n",
    "WHERE SCHEMA_NAME='{myconn.get_current_schema()}'\n",
    "''')\n",
    "\n",
    "#Get all records\n",
    "result=mycursor.fetchall()\n",
    "print(f\"{len(result)} table(s) in the schema {myconn.get_current_schema()}: {[x[0] for x in result]}\")"
   ]
  },
  {
   "cell_type": "markdown",
   "id": "9341740f-c224-49df-9523-722e4c468c71",
   "metadata": {},
   "source": [
    "# 2. `hana-ml` approach using interoperability between Pandas DataFrames and HANA DataFrames\n",
    "\n",
    "References:\n",
    "1. https://help.sap.com/doc/cd94b08fe2e041c2ba778374572ddba9/2022_4_QRC/en-US/hana_ml.html#sap-hana-dataframe\n",
    "1. https://pandas.pydata.org/docs/reference/api/pandas.DataFrame.html"
   ]
  },
  {
   "cell_type": "markdown",
   "id": "74856c9d-110d-4e22-b2a0-c3a8f9440486",
   "metadata": {},
   "source": [
    "Create a table `MONTHS` in the current database schema.\n",
    "\n",
    "But this time you should use [`create_table()` method](https://help.sap.com/doc/cd94b08fe2e041c2ba778374572ddba9/2022_4_QRC/en-US/hana_ml.dataframe.html#hana_ml.dataframe.ConnectionContext.create_table) from `hana_ml`."
   ]
  },
  {
   "cell_type": "code",
   "execution_count": 26,
   "id": "9b5363b7-c015-4ead-963f-b6aff1a96ede",
   "metadata": {},
   "outputs": [],
   "source": [
    "try:\n",
    "    test = mycursor.execute('select * from months')\n",
    "except:\n",
    "    test = 0 # table does not exist yet\n",
    "\n",
    "if test != 1:\n",
    "# myconn.drop_table(\"MONTHS\")\n",
    "    myconn.create_table(\"MONTHS\", table_structure={\"ID\":\"INT\", \"DESC\":\"VARCHAR(10)\"})"
   ]
  },
  {
   "attachments": {
    "71e117be-596d-4be5-8832-83e4b50ee61d.png": {
     "image/png": "[encoded data removed]"
    }
   },
   "cell_type": "markdown",
   "id": "63b52694-db0f-41c5-abbe-034034e5019a",
   "metadata": {
    "tags": []
   },
   "source": [
    "Check tables created so far in the current database schema.\n",
    "\n",
    "But this time you should use [`get_tables()` method](https://help.sap.com/doc/cd94b08fe2e041c2ba778374572ddba9/2022_4_QRC/en-US/hana_ml.dataframe.html#hana_ml.dataframe.ConnectionContext.get_tables) from `hana_ml` to receive the output similar to:\n",
    "\n",
    "![image.png](attachment:71e117be-596d-4be5-8832-83e4b50ee61d.png)"
   ]
  },
  {
   "cell_type": "code",
   "execution_count": 27,
   "id": "85ecb5cd-c17a-456e-98c9-052faeb79c82",
   "metadata": {},
   "outputs": [
    {
     "name": "stdout",
     "output_type": "stream",
     "text": [
      "  TABLE_NAME\n",
      "0      BIKES\n",
      "1     MONTHS\n",
      "2    SEASONS\n"
     ]
    }
   ],
   "source": [
    "tables = myconn.get_tables()\n",
    "print(tables)"
   ]
  },
  {
   "cell_type": "markdown",
   "id": "eb360fce-7097-4242-a8a5-9b99f36736cd",
   "metadata": {},
   "source": [
    "Create [Pandas DataFrame](https://pandas.pydata.org/docs/getting_started/intro_tutorials/01_table_oriented.html#what-kind-of-data-does-pandas-handle) with data describing calendar months. \n",
    "\n",
    "The name of the object is `months_df`, and it is quite common to use `_df` postfix in a name of a variable storing Pandas DataFrame."
   ]
  },
  {
   "cell_type": "code",
   "execution_count": 28,
   "id": "6bce716e-3391-40ad-bf31-439d32eb2f38",
   "metadata": {},
   "outputs": [],
   "source": [
    "import pandas as pd\n",
    "\n",
    "months_df=pd.DataFrame(\n",
    "    {\"ID\": range(1,13),\n",
    "     \"DESC\": ['JAN', 'FEB', 'MAR', 'APR', 'MAY', 'JUN', 'JUL', 'AUG', 'SEP', 'OCT', 'NOV', 'DEC']\n",
    "    })"
   ]
  },
  {
   "cell_type": "markdown",
   "id": "c33431e1-c37e-4e5e-b88b-351bbd6f3924",
   "metadata": {},
   "source": [
    "Display data from Pandas DataFrame `months_df`. \n",
    "> For the clarity of the output `.style.hide(axis='index')` can be added to remove the Pandas index from the output."
   ]
  },
  {
   "cell_type": "code",
   "execution_count": 29,
   "id": "5f167180-fe6c-4406-98c5-6e38cc0398cd",
   "metadata": {},
   "outputs": [
    {
     "data": {
      "text/html": [
       "<style type=\"text/css\">\n",
       "</style>\n",
       "<table id=\"T_38728\">\n",
       "  <thead>\n",
       "    <tr>\n",
       "      <th id=\"T_38728_level0_col0\" class=\"col_heading level0 col0\" >ID</th>\n",
       "      <th id=\"T_38728_level0_col1\" class=\"col_heading level0 col1\" >DESC</th>\n",
       "    </tr>\n",
       "  </thead>\n",
       "  <tbody>\n",
       "    <tr>\n",
       "      <td id=\"T_38728_row0_col0\" class=\"data row0 col0\" >1</td>\n",
       "      <td id=\"T_38728_row0_col1\" class=\"data row0 col1\" >JAN</td>\n",
       "    </tr>\n",
       "    <tr>\n",
       "      <td id=\"T_38728_row1_col0\" class=\"data row1 col0\" >2</td>\n",
       "      <td id=\"T_38728_row1_col1\" class=\"data row1 col1\" >FEB</td>\n",
       "    </tr>\n",
       "    <tr>\n",
       "      <td id=\"T_38728_row2_col0\" class=\"data row2 col0\" >3</td>\n",
       "      <td id=\"T_38728_row2_col1\" class=\"data row2 col1\" >MAR</td>\n",
       "    </tr>\n",
       "    <tr>\n",
       "      <td id=\"T_38728_row3_col0\" class=\"data row3 col0\" >4</td>\n",
       "      <td id=\"T_38728_row3_col1\" class=\"data row3 col1\" >APR</td>\n",
       "    </tr>\n",
       "    <tr>\n",
       "      <td id=\"T_38728_row4_col0\" class=\"data row4 col0\" >5</td>\n",
       "      <td id=\"T_38728_row4_col1\" class=\"data row4 col1\" >MAY</td>\n",
       "    </tr>\n",
       "    <tr>\n",
       "      <td id=\"T_38728_row5_col0\" class=\"data row5 col0\" >6</td>\n",
       "      <td id=\"T_38728_row5_col1\" class=\"data row5 col1\" >JUN</td>\n",
       "    </tr>\n",
       "    <tr>\n",
       "      <td id=\"T_38728_row6_col0\" class=\"data row6 col0\" >7</td>\n",
       "      <td id=\"T_38728_row6_col1\" class=\"data row6 col1\" >JUL</td>\n",
       "    </tr>\n",
       "    <tr>\n",
       "      <td id=\"T_38728_row7_col0\" class=\"data row7 col0\" >8</td>\n",
       "      <td id=\"T_38728_row7_col1\" class=\"data row7 col1\" >AUG</td>\n",
       "    </tr>\n",
       "    <tr>\n",
       "      <td id=\"T_38728_row8_col0\" class=\"data row8 col0\" >9</td>\n",
       "      <td id=\"T_38728_row8_col1\" class=\"data row8 col1\" >SEP</td>\n",
       "    </tr>\n",
       "    <tr>\n",
       "      <td id=\"T_38728_row9_col0\" class=\"data row9 col0\" >10</td>\n",
       "      <td id=\"T_38728_row9_col1\" class=\"data row9 col1\" >OCT</td>\n",
       "    </tr>\n",
       "    <tr>\n",
       "      <td id=\"T_38728_row10_col0\" class=\"data row10 col0\" >11</td>\n",
       "      <td id=\"T_38728_row10_col1\" class=\"data row10 col1\" >NOV</td>\n",
       "    </tr>\n",
       "    <tr>\n",
       "      <td id=\"T_38728_row11_col0\" class=\"data row11 col0\" >12</td>\n",
       "      <td id=\"T_38728_row11_col1\" class=\"data row11 col1\" >DEC</td>\n",
       "    </tr>\n",
       "  </tbody>\n",
       "</table>\n"
      ],
      "text/plain": [
       "<pandas.io.formats.style.Styler at 0x7f48103969d0>"
      ]
     },
     "metadata": {},
     "output_type": "display_data"
    }
   ],
   "source": [
    "display(months_df.style.hide(axis='index'))\n",
    "\n",
    "# compare the output with a hidden Pandas index by removing a comment in the line below: \n",
    "#display(months_df.style.hide(axis='index'))"
   ]
  },
  {
   "cell_type": "markdown",
   "id": "c32f52d6",
   "metadata": {},
   "source": [
    "## Create HANA DataFrame from Pandas DataFrame.\n",
    "\n",
    "`hana_ml` provides a [method `create_dataframe_from_pandas`](https://help.sap.com/doc/cd94b08fe2e041c2ba778374572ddba9/2022_4_QRC/en-US/hana_ml.dataframe.html#hana_ml.dataframe.create_dataframe_from_pandas) to store data from the Pandas DataFrame in a table in SAP HANA database. A table is created, if needed.\n",
    "\n",
    "The name of the object is `months_hdf`, and it is quite common to use `_hdf` postfix in a name of a variable storing HANA DataFrame."
   ]
  },
  {
   "cell_type": "code",
   "execution_count": 30,
   "id": "4881ef24-292d-4367-946c-1bb63a5d6391",
   "metadata": {},
   "outputs": [
    {
     "name": "stderr",
     "output_type": "stream",
     "text": [
      "100%|█████████████████████████████████████████████| 1/1 [00:00<00:00,  4.45it/s]\n"
     ]
    }
   ],
   "source": [
    "\n",
    "months_hdf = hdf.create_dataframe_from_pandas(connection_context=myconn,\n",
    "                                      pandas_df=months_df,\n",
    "                                      table_name='MONTHS',\n",
    "                                      primary_key='ID',\n",
    "                                      force=True\n",
    "                                     )"
   ]
  },
  {
   "cell_type": "markdown",
   "id": "5c59285e-3d15-4688-bff8-fc76c1844457",
   "metadata": {},
   "source": [
    "The type of a `months_hdf` object returned from the `create_dataframe_from_pandas` method is a HANA DataFrame (`hana_ml.dataframe.DataFrame`)..."
   ]
  },
  {
   "cell_type": "code",
   "execution_count": 31,
   "id": "7297fe55-d374-41ea-a762-ddb41f993a37",
   "metadata": {},
   "outputs": [
    {
     "data": {
      "text/plain": [
       "hana_ml.dataframe.DataFrame"
      ]
     },
     "execution_count": 31,
     "metadata": {},
     "output_type": "execute_result"
    }
   ],
   "source": [
    "type(months_hdf)"
   ]
  },
  {
   "cell_type": "markdown",
   "id": "aab54a8b-2e37-4253-8342-f2b6512609b5",
   "metadata": {},
   "source": [
    "\n",
    "HANA DataFrames do not store any data on a client side in Python. Each HANA DataFrame only stores a connection contex and a [`select_statement` attribute](https://help.sap.com/doc/cd94b08fe2e041c2ba778374572ddba9/2022_4_QRC/en-US/hana_ml.dataframe.html#hana_ml.dataframe.DataFrame) to be used to retrieve data from the SAP HANA database."
   ]
  },
  {
   "cell_type": "code",
   "execution_count": 32,
   "id": "f317e446-cb9c-411b-90a9-48fc9b2fcb39",
   "metadata": {},
   "outputs": [
    {
     "name": "stdout",
     "output_type": "stream",
     "text": [
      "SELECT * FROM \"MONTHS\"\n"
     ]
    }
   ],
   "source": [
    "print(months_hdf.select_statement)"
   ]
  },
  {
   "cell_type": "markdown",
   "id": "838a3f1f-2cbc-4875-9bcd-3bf442992176",
   "metadata": {},
   "source": [
    "You can, obviously, use that SELECT statement **to retrieve data using SQL** as you've seen in the first approach..."
   ]
  },
  {
   "cell_type": "code",
   "execution_count": 33,
   "id": "0f569052-70bf-4adb-b0e9-d808f4cbc68c",
   "metadata": {},
   "outputs": [
    {
     "name": "stdout",
     "output_type": "stream",
     "text": [
      "All 12 records: [(1, 'JAN'), (2, 'FEB'), (3, 'MAR'), (4, 'APR'), (5, 'MAY'), (6, 'JUN'), (7, 'JUL'), (8, 'AUG'), (9, 'SEP'), (10, 'OCT'), (11, 'NOV'), (12, 'DEC')]\n"
     ]
    }
   ],
   "source": [
    "mycursor.execute(months_hdf.select_statement)\n",
    "\n",
    "#Get all records\n",
    "result=mycursor.fetchall()\n",
    "\n",
    "#Display returned records\n",
    "print(f\"All {len(result)} records: {result}\")"
   ]
  },
  {
   "cell_type": "markdown",
   "id": "b5079536-a4d1-444c-a053-72d66aad56f8",
   "metadata": {},
   "source": [
    "...but **the proper way to retrieve data** from a HANA table is by using a [`collect` method](https://help.sap.com/doc/cd94b08fe2e041c2ba778374572ddba9/2022_4_QRC/en-US/hana_ml.dataframe.html#hana_ml.dataframe.DataFrame.collect), which returns selected data in the form of the Pandas DataFrame."
   ]
  },
  {
   "cell_type": "code",
   "execution_count": 34,
   "id": "85d6e7f4-573b-4228-9cb8-e6a39b174c02",
   "metadata": {},
   "outputs": [
    {
     "data": {
      "text/html": [
       "<div>\n",
       "<style scoped>\n",
       "    .dataframe tbody tr th:only-of-type {\n",
       "        vertical-align: middle;\n",
       "    }\n",
       "\n",
       "    .dataframe tbody tr th {\n",
       "        vertical-align: top;\n",
       "    }\n",
       "\n",
       "    .dataframe thead th {\n",
       "        text-align: right;\n",
       "    }\n",
       "</style>\n",
       "<table border=\"1\" class=\"dataframe\">\n",
       "  <thead>\n",
       "    <tr style=\"text-align: right;\">\n",
       "      <th></th>\n",
       "      <th>ID</th>\n",
       "      <th>DESC</th>\n",
       "    </tr>\n",
       "  </thead>\n",
       "  <tbody>\n",
       "    <tr>\n",
       "      <th>0</th>\n",
       "      <td>1</td>\n",
       "      <td>JAN</td>\n",
       "    </tr>\n",
       "    <tr>\n",
       "      <th>1</th>\n",
       "      <td>2</td>\n",
       "      <td>FEB</td>\n",
       "    </tr>\n",
       "    <tr>\n",
       "      <th>2</th>\n",
       "      <td>3</td>\n",
       "      <td>MAR</td>\n",
       "    </tr>\n",
       "    <tr>\n",
       "      <th>3</th>\n",
       "      <td>4</td>\n",
       "      <td>APR</td>\n",
       "    </tr>\n",
       "    <tr>\n",
       "      <th>4</th>\n",
       "      <td>5</td>\n",
       "      <td>MAY</td>\n",
       "    </tr>\n",
       "    <tr>\n",
       "      <th>5</th>\n",
       "      <td>6</td>\n",
       "      <td>JUN</td>\n",
       "    </tr>\n",
       "    <tr>\n",
       "      <th>6</th>\n",
       "      <td>7</td>\n",
       "      <td>JUL</td>\n",
       "    </tr>\n",
       "    <tr>\n",
       "      <th>7</th>\n",
       "      <td>8</td>\n",
       "      <td>AUG</td>\n",
       "    </tr>\n",
       "    <tr>\n",
       "      <th>8</th>\n",
       "      <td>9</td>\n",
       "      <td>SEP</td>\n",
       "    </tr>\n",
       "    <tr>\n",
       "      <th>9</th>\n",
       "      <td>10</td>\n",
       "      <td>OCT</td>\n",
       "    </tr>\n",
       "    <tr>\n",
       "      <th>10</th>\n",
       "      <td>11</td>\n",
       "      <td>NOV</td>\n",
       "    </tr>\n",
       "    <tr>\n",
       "      <th>11</th>\n",
       "      <td>12</td>\n",
       "      <td>DEC</td>\n",
       "    </tr>\n",
       "  </tbody>\n",
       "</table>\n",
       "</div>"
      ],
      "text/plain": [
       "    ID DESC\n",
       "0    1  JAN\n",
       "1    2  FEB\n",
       "2    3  MAR\n",
       "3    4  APR\n",
       "4    5  MAY\n",
       "5    6  JUN\n",
       "6    7  JUL\n",
       "7    8  AUG\n",
       "8    9  SEP\n",
       "9   10  OCT\n",
       "10  11  NOV\n",
       "11  12  DEC"
      ]
     },
     "execution_count": 34,
     "metadata": {},
     "output_type": "execute_result"
    }
   ],
   "source": [
    "months_hdf.collect()"
   ]
  },
  {
   "cell_type": "markdown",
   "id": "266b06b4-573e-438a-9c36-2069a54bd309",
   "metadata": {},
   "source": [
    "You can see this method returns an instance of a Pandas DataFrame (`pandas.core.frame.DataFrame`)."
   ]
  },
  {
   "cell_type": "code",
   "execution_count": 35,
   "id": "deb918e1-75d2-41b5-a5db-f0b958b4281d",
   "metadata": {},
   "outputs": [
    {
     "data": {
      "text/plain": [
       "pandas.core.frame.DataFrame"
      ]
     },
     "execution_count": 35,
     "metadata": {},
     "output_type": "execute_result"
    }
   ],
   "source": [
    "type(months_df)"
   ]
  },
  {
   "cell_type": "markdown",
   "id": "90c0b225-a74c-4269-afc7-6175d761b9fd",
   "metadata": {},
   "source": [
    "## Using `hana-ml` approach to load data from a CSV file (or any other file Pandas can read)\n",
    "\n",
    "In most of the case we do not want to manually type data to be inserted, but have this data already stored in a file, like CSV."
   ]
  },
  {
   "cell_type": "code",
   "execution_count": 36,
   "id": "af83ed8e-d450-4d6c-ae2a-09a19651aef6",
   "metadata": {},
   "outputs": [],
   "source": [
    "url=\"https://raw.githubusercontent.com/SAP-samples/hana-ml-samples/main/Python-API/pal/datasets/bike.csv\"\n",
    "bikes_df = pd.io.parsers.read_csv(url)"
   ]
  },
  {
   "cell_type": "markdown",
   "id": "dffc31d4-247e-481d-a9f0-c80380a4b244",
   "metadata": {},
   "source": [
    "Display the content of the Pandas DataFrame `bikes_df` with data from the CSV file."
   ]
  },
  {
   "cell_type": "code",
   "execution_count": 37,
   "id": "07561e90-b593-4b03-9c8a-647bf73f4523",
   "metadata": {},
   "outputs": [
    {
     "data": {
      "text/html": [
       "<div>\n",
       "<style scoped>\n",
       "    .dataframe tbody tr th:only-of-type {\n",
       "        vertical-align: middle;\n",
       "    }\n",
       "\n",
       "    .dataframe tbody tr th {\n",
       "        vertical-align: top;\n",
       "    }\n",
       "\n",
       "    .dataframe thead th {\n",
       "        text-align: right;\n",
       "    }\n",
       "</style>\n",
       "<table border=\"1\" class=\"dataframe\">\n",
       "  <thead>\n",
       "    <tr style=\"text-align: right;\">\n",
       "      <th></th>\n",
       "      <th>season</th>\n",
       "      <th>yr</th>\n",
       "      <th>mnth</th>\n",
       "      <th>holiday</th>\n",
       "      <th>weekday</th>\n",
       "      <th>workingday</th>\n",
       "      <th>weathersit</th>\n",
       "      <th>temp</th>\n",
       "      <th>hum</th>\n",
       "      <th>windspeed</th>\n",
       "      <th>cnt</th>\n",
       "      <th>days_since_2011</th>\n",
       "    </tr>\n",
       "  </thead>\n",
       "  <tbody>\n",
       "    <tr>\n",
       "      <th>0</th>\n",
       "      <td>WINTER</td>\n",
       "      <td>2011</td>\n",
       "      <td>JAN</td>\n",
       "      <td>NO HOLIDAY</td>\n",
       "      <td>SAT</td>\n",
       "      <td>NO WORKING DAY</td>\n",
       "      <td>MISTY</td>\n",
       "      <td>8.175849</td>\n",
       "      <td>80.5833</td>\n",
       "      <td>10.749882</td>\n",
       "      <td>985</td>\n",
       "      <td>0</td>\n",
       "    </tr>\n",
       "    <tr>\n",
       "      <th>1</th>\n",
       "      <td>WINTER</td>\n",
       "      <td>2011</td>\n",
       "      <td>JAN</td>\n",
       "      <td>NO HOLIDAY</td>\n",
       "      <td>SUN</td>\n",
       "      <td>NO WORKING DAY</td>\n",
       "      <td>MISTY</td>\n",
       "      <td>9.083466</td>\n",
       "      <td>69.6087</td>\n",
       "      <td>16.652113</td>\n",
       "      <td>801</td>\n",
       "      <td>1</td>\n",
       "    </tr>\n",
       "    <tr>\n",
       "      <th>2</th>\n",
       "      <td>WINTER</td>\n",
       "      <td>2011</td>\n",
       "      <td>JAN</td>\n",
       "      <td>NO HOLIDAY</td>\n",
       "      <td>MON</td>\n",
       "      <td>WORKING DAY</td>\n",
       "      <td>GOOD</td>\n",
       "      <td>1.229108</td>\n",
       "      <td>43.7273</td>\n",
       "      <td>16.636703</td>\n",
       "      <td>1349</td>\n",
       "      <td>2</td>\n",
       "    </tr>\n",
       "    <tr>\n",
       "      <th>3</th>\n",
       "      <td>WINTER</td>\n",
       "      <td>2011</td>\n",
       "      <td>JAN</td>\n",
       "      <td>NO HOLIDAY</td>\n",
       "      <td>TUE</td>\n",
       "      <td>WORKING DAY</td>\n",
       "      <td>GOOD</td>\n",
       "      <td>1.400000</td>\n",
       "      <td>59.0435</td>\n",
       "      <td>10.739832</td>\n",
       "      <td>1562</td>\n",
       "      <td>3</td>\n",
       "    </tr>\n",
       "    <tr>\n",
       "      <th>4</th>\n",
       "      <td>WINTER</td>\n",
       "      <td>2011</td>\n",
       "      <td>JAN</td>\n",
       "      <td>NO HOLIDAY</td>\n",
       "      <td>WED</td>\n",
       "      <td>WORKING DAY</td>\n",
       "      <td>GOOD</td>\n",
       "      <td>2.666979</td>\n",
       "      <td>43.6957</td>\n",
       "      <td>12.522300</td>\n",
       "      <td>1600</td>\n",
       "      <td>4</td>\n",
       "    </tr>\n",
       "    <tr>\n",
       "      <th>...</th>\n",
       "      <td>...</td>\n",
       "      <td>...</td>\n",
       "      <td>...</td>\n",
       "      <td>...</td>\n",
       "      <td>...</td>\n",
       "      <td>...</td>\n",
       "      <td>...</td>\n",
       "      <td>...</td>\n",
       "      <td>...</td>\n",
       "      <td>...</td>\n",
       "      <td>...</td>\n",
       "      <td>...</td>\n",
       "    </tr>\n",
       "    <tr>\n",
       "      <th>726</th>\n",
       "      <td>WINTER</td>\n",
       "      <td>2012</td>\n",
       "      <td>DEC</td>\n",
       "      <td>NO HOLIDAY</td>\n",
       "      <td>THU</td>\n",
       "      <td>WORKING DAY</td>\n",
       "      <td>MISTY</td>\n",
       "      <td>3.945849</td>\n",
       "      <td>65.2917</td>\n",
       "      <td>23.458911</td>\n",
       "      <td>2114</td>\n",
       "      <td>726</td>\n",
       "    </tr>\n",
       "    <tr>\n",
       "      <th>727</th>\n",
       "      <td>WINTER</td>\n",
       "      <td>2012</td>\n",
       "      <td>DEC</td>\n",
       "      <td>NO HOLIDAY</td>\n",
       "      <td>FRI</td>\n",
       "      <td>WORKING DAY</td>\n",
       "      <td>MISTY</td>\n",
       "      <td>3.906651</td>\n",
       "      <td>59.0000</td>\n",
       "      <td>10.416557</td>\n",
       "      <td>3095</td>\n",
       "      <td>727</td>\n",
       "    </tr>\n",
       "    <tr>\n",
       "      <th>728</th>\n",
       "      <td>WINTER</td>\n",
       "      <td>2012</td>\n",
       "      <td>DEC</td>\n",
       "      <td>NO HOLIDAY</td>\n",
       "      <td>SAT</td>\n",
       "      <td>NO WORKING DAY</td>\n",
       "      <td>MISTY</td>\n",
       "      <td>3.906651</td>\n",
       "      <td>75.2917</td>\n",
       "      <td>8.333661</td>\n",
       "      <td>1341</td>\n",
       "      <td>728</td>\n",
       "    </tr>\n",
       "    <tr>\n",
       "      <th>729</th>\n",
       "      <td>WINTER</td>\n",
       "      <td>2012</td>\n",
       "      <td>DEC</td>\n",
       "      <td>NO HOLIDAY</td>\n",
       "      <td>SUN</td>\n",
       "      <td>NO WORKING DAY</td>\n",
       "      <td>GOOD</td>\n",
       "      <td>4.024151</td>\n",
       "      <td>48.3333</td>\n",
       "      <td>23.500518</td>\n",
       "      <td>1796</td>\n",
       "      <td>729</td>\n",
       "    </tr>\n",
       "    <tr>\n",
       "      <th>730</th>\n",
       "      <td>WINTER</td>\n",
       "      <td>2012</td>\n",
       "      <td>DEC</td>\n",
       "      <td>NO HOLIDAY</td>\n",
       "      <td>MON</td>\n",
       "      <td>WORKING DAY</td>\n",
       "      <td>MISTY</td>\n",
       "      <td>2.144151</td>\n",
       "      <td>57.7500</td>\n",
       "      <td>10.374682</td>\n",
       "      <td>2729</td>\n",
       "      <td>730</td>\n",
       "    </tr>\n",
       "  </tbody>\n",
       "</table>\n",
       "<p>731 rows × 12 columns</p>\n",
       "</div>"
      ],
      "text/plain": [
       "     season    yr mnth     holiday weekday      workingday weathersit  \\\n",
       "0    WINTER  2011  JAN  NO HOLIDAY     SAT  NO WORKING DAY      MISTY   \n",
       "1    WINTER  2011  JAN  NO HOLIDAY     SUN  NO WORKING DAY      MISTY   \n",
       "2    WINTER  2011  JAN  NO HOLIDAY     MON     WORKING DAY       GOOD   \n",
       "3    WINTER  2011  JAN  NO HOLIDAY     TUE     WORKING DAY       GOOD   \n",
       "4    WINTER  2011  JAN  NO HOLIDAY     WED     WORKING DAY       GOOD   \n",
       "..      ...   ...  ...         ...     ...             ...        ...   \n",
       "726  WINTER  2012  DEC  NO HOLIDAY     THU     WORKING DAY      MISTY   \n",
       "727  WINTER  2012  DEC  NO HOLIDAY     FRI     WORKING DAY      MISTY   \n",
       "728  WINTER  2012  DEC  NO HOLIDAY     SAT  NO WORKING DAY      MISTY   \n",
       "729  WINTER  2012  DEC  NO HOLIDAY     SUN  NO WORKING DAY       GOOD   \n",
       "730  WINTER  2012  DEC  NO HOLIDAY     MON     WORKING DAY      MISTY   \n",
       "\n",
       "         temp      hum  windspeed   cnt  days_since_2011  \n",
       "0    8.175849  80.5833  10.749882   985                0  \n",
       "1    9.083466  69.6087  16.652113   801                1  \n",
       "2    1.229108  43.7273  16.636703  1349                2  \n",
       "3    1.400000  59.0435  10.739832  1562                3  \n",
       "4    2.666979  43.6957  12.522300  1600                4  \n",
       "..        ...      ...        ...   ...              ...  \n",
       "726  3.945849  65.2917  23.458911  2114              726  \n",
       "727  3.906651  59.0000  10.416557  3095              727  \n",
       "728  3.906651  75.2917   8.333661  1341              728  \n",
       "729  4.024151  48.3333  23.500518  1796              729  \n",
       "730  2.144151  57.7500  10.374682  2729              730  \n",
       "\n",
       "[731 rows x 12 columns]"
      ]
     },
     "metadata": {},
     "output_type": "display_data"
    }
   ],
   "source": [
    "display(bikes_df)"
   ]
  },
  {
   "cell_type": "markdown",
   "id": "f766ab1a-7877-433a-82c1-bf40d48bf0db",
   "metadata": {},
   "source": [
    "Now persist this data in HANA table database using the same [`create_dataframe_from_pandas` method](https://help.sap.com/doc/cd94b08fe2e041c2ba778374572ddba9/2022_4_QRC/en-US/hana_ml.dataframe.html#hana_ml.dataframe.create_dataframe_from_pandas) from `hana_ml` as before."
   ]
  },
  {
   "cell_type": "code",
   "execution_count": 38,
   "id": "2157e623-b9bb-4574-a28c-15ccd4dceaff",
   "metadata": {},
   "outputs": [
    {
     "name": "stderr",
     "output_type": "stream",
     "text": [
      "100%|█████████████████████████████████████████████| 1/1 [00:00<00:00,  2.15it/s]\n"
     ]
    }
   ],
   "source": [
    "bikes_hdf = hdf.create_dataframe_from_pandas(connection_context=myconn,\n",
    "                                      pandas_df=bikes_df,\n",
    "                                      table_name='BIKES',\n",
    "                                      primary_key='days_since_2011',\n",
    "                                      force=True\n",
    "                                     )"
   ]
  },
  {
   "cell_type": "markdown",
   "id": "57881c93-6ba9-469f-a937-aa57ca50811f",
   "metadata": {},
   "source": [
    "The type of a `bikes_hdf` object returned from the `create_dataframe_from_pandas` method is a HANA DataFrame..."
   ]
  },
  {
   "cell_type": "code",
   "execution_count": 39,
   "id": "f626d2c1-4ad7-41a8-8acb-d4354864bb1b",
   "metadata": {},
   "outputs": [
    {
     "data": {
      "text/plain": [
       "hana_ml.dataframe.DataFrame"
      ]
     },
     "execution_count": 39,
     "metadata": {},
     "output_type": "execute_result"
    }
   ],
   "source": [
    "type(bikes_hdf)"
   ]
  },
  {
   "cell_type": "markdown",
   "id": "addc2581-074e-47f1-a2aa-730f7f91f206",
   "metadata": {},
   "source": [
    "...and a SELECT statement that supports this HANA DataFrame"
   ]
  },
  {
   "cell_type": "code",
   "execution_count": 40,
   "id": "0362d4c9-4634-4991-ba78-5a14f9ff92aa",
   "metadata": {},
   "outputs": [
    {
     "name": "stdout",
     "output_type": "stream",
     "text": [
      "This is the select statement: SELECT * FROM \"BIKES\"\n"
     ]
    }
   ],
   "source": [
    "print(f\"This is the select statement: {bikes_hdf.select_statement}\")"
   ]
  },
  {
   "cell_type": "markdown",
   "id": "6450f8d5-e38b-47e1-b231-8a9dff0776c0",
   "metadata": {},
   "source": [
    "As stated above the `collect()` method returns a Pandas DataFrame, and therefore Pandas methods can be applied to it, like `head()` to output a few records..."
   ]
  },
  {
   "cell_type": "code",
   "execution_count": 41,
   "id": "d000f49f-1969-45a1-86a1-7d93d0c59b0c",
   "metadata": {},
   "outputs": [
    {
     "data": {
      "text/html": [
       "<div>\n",
       "<style scoped>\n",
       "    .dataframe tbody tr th:only-of-type {\n",
       "        vertical-align: middle;\n",
       "    }\n",
       "\n",
       "    .dataframe tbody tr th {\n",
       "        vertical-align: top;\n",
       "    }\n",
       "\n",
       "    .dataframe thead th {\n",
       "        text-align: right;\n",
       "    }\n",
       "</style>\n",
       "<table border=\"1\" class=\"dataframe\">\n",
       "  <thead>\n",
       "    <tr style=\"text-align: right;\">\n",
       "      <th></th>\n",
       "      <th>season</th>\n",
       "      <th>yr</th>\n",
       "      <th>mnth</th>\n",
       "      <th>holiday</th>\n",
       "      <th>weekday</th>\n",
       "      <th>workingday</th>\n",
       "      <th>weathersit</th>\n",
       "      <th>temp</th>\n",
       "      <th>hum</th>\n",
       "      <th>windspeed</th>\n",
       "      <th>cnt</th>\n",
       "      <th>days_since_2011</th>\n",
       "    </tr>\n",
       "  </thead>\n",
       "  <tbody>\n",
       "    <tr>\n",
       "      <th>0</th>\n",
       "      <td>WINTER</td>\n",
       "      <td>2011</td>\n",
       "      <td>JAN</td>\n",
       "      <td>NO HOLIDAY</td>\n",
       "      <td>SAT</td>\n",
       "      <td>NO WORKING DAY</td>\n",
       "      <td>MISTY</td>\n",
       "      <td>8.175849</td>\n",
       "      <td>80.5833</td>\n",
       "      <td>10.749882</td>\n",
       "      <td>985</td>\n",
       "      <td>0</td>\n",
       "    </tr>\n",
       "    <tr>\n",
       "      <th>1</th>\n",
       "      <td>WINTER</td>\n",
       "      <td>2011</td>\n",
       "      <td>JAN</td>\n",
       "      <td>NO HOLIDAY</td>\n",
       "      <td>SUN</td>\n",
       "      <td>NO WORKING DAY</td>\n",
       "      <td>MISTY</td>\n",
       "      <td>9.083466</td>\n",
       "      <td>69.6087</td>\n",
       "      <td>16.652113</td>\n",
       "      <td>801</td>\n",
       "      <td>1</td>\n",
       "    </tr>\n",
       "    <tr>\n",
       "      <th>2</th>\n",
       "      <td>WINTER</td>\n",
       "      <td>2011</td>\n",
       "      <td>JAN</td>\n",
       "      <td>NO HOLIDAY</td>\n",
       "      <td>MON</td>\n",
       "      <td>WORKING DAY</td>\n",
       "      <td>GOOD</td>\n",
       "      <td>1.229108</td>\n",
       "      <td>43.7273</td>\n",
       "      <td>16.636703</td>\n",
       "      <td>1349</td>\n",
       "      <td>2</td>\n",
       "    </tr>\n",
       "    <tr>\n",
       "      <th>3</th>\n",
       "      <td>WINTER</td>\n",
       "      <td>2011</td>\n",
       "      <td>JAN</td>\n",
       "      <td>NO HOLIDAY</td>\n",
       "      <td>TUE</td>\n",
       "      <td>WORKING DAY</td>\n",
       "      <td>GOOD</td>\n",
       "      <td>1.400000</td>\n",
       "      <td>59.0435</td>\n",
       "      <td>10.739832</td>\n",
       "      <td>1562</td>\n",
       "      <td>3</td>\n",
       "    </tr>\n",
       "    <tr>\n",
       "      <th>4</th>\n",
       "      <td>WINTER</td>\n",
       "      <td>2011</td>\n",
       "      <td>JAN</td>\n",
       "      <td>NO HOLIDAY</td>\n",
       "      <td>WED</td>\n",
       "      <td>WORKING DAY</td>\n",
       "      <td>GOOD</td>\n",
       "      <td>2.666979</td>\n",
       "      <td>43.6957</td>\n",
       "      <td>12.522300</td>\n",
       "      <td>1600</td>\n",
       "      <td>4</td>\n",
       "    </tr>\n",
       "    <tr>\n",
       "      <th>5</th>\n",
       "      <td>WINTER</td>\n",
       "      <td>2011</td>\n",
       "      <td>JAN</td>\n",
       "      <td>NO HOLIDAY</td>\n",
       "      <td>THU</td>\n",
       "      <td>WORKING DAY</td>\n",
       "      <td>GOOD</td>\n",
       "      <td>1.604356</td>\n",
       "      <td>51.8261</td>\n",
       "      <td>6.000868</td>\n",
       "      <td>1606</td>\n",
       "      <td>5</td>\n",
       "    </tr>\n",
       "    <tr>\n",
       "      <th>6</th>\n",
       "      <td>WINTER</td>\n",
       "      <td>2011</td>\n",
       "      <td>JAN</td>\n",
       "      <td>NO HOLIDAY</td>\n",
       "      <td>FRI</td>\n",
       "      <td>WORKING DAY</td>\n",
       "      <td>MISTY</td>\n",
       "      <td>1.236534</td>\n",
       "      <td>49.8696</td>\n",
       "      <td>11.304642</td>\n",
       "      <td>1510</td>\n",
       "      <td>6</td>\n",
       "    </tr>\n",
       "    <tr>\n",
       "      <th>7</th>\n",
       "      <td>WINTER</td>\n",
       "      <td>2011</td>\n",
       "      <td>JAN</td>\n",
       "      <td>NO HOLIDAY</td>\n",
       "      <td>SAT</td>\n",
       "      <td>NO WORKING DAY</td>\n",
       "      <td>MISTY</td>\n",
       "      <td>-0.245000</td>\n",
       "      <td>53.5833</td>\n",
       "      <td>17.875868</td>\n",
       "      <td>959</td>\n",
       "      <td>7</td>\n",
       "    </tr>\n",
       "    <tr>\n",
       "      <th>8</th>\n",
       "      <td>WINTER</td>\n",
       "      <td>2011</td>\n",
       "      <td>JAN</td>\n",
       "      <td>NO HOLIDAY</td>\n",
       "      <td>SUN</td>\n",
       "      <td>NO WORKING DAY</td>\n",
       "      <td>GOOD</td>\n",
       "      <td>-1.498349</td>\n",
       "      <td>43.4167</td>\n",
       "      <td>24.250650</td>\n",
       "      <td>822</td>\n",
       "      <td>8</td>\n",
       "    </tr>\n",
       "    <tr>\n",
       "      <th>9</th>\n",
       "      <td>WINTER</td>\n",
       "      <td>2011</td>\n",
       "      <td>JAN</td>\n",
       "      <td>NO HOLIDAY</td>\n",
       "      <td>MON</td>\n",
       "      <td>WORKING DAY</td>\n",
       "      <td>GOOD</td>\n",
       "      <td>-0.910849</td>\n",
       "      <td>48.2917</td>\n",
       "      <td>14.958889</td>\n",
       "      <td>1321</td>\n",
       "      <td>9</td>\n",
       "    </tr>\n",
       "  </tbody>\n",
       "</table>\n",
       "</div>"
      ],
      "text/plain": [
       "   season    yr mnth     holiday weekday      workingday weathersit      temp  \\\n",
       "0  WINTER  2011  JAN  NO HOLIDAY     SAT  NO WORKING DAY      MISTY  8.175849   \n",
       "1  WINTER  2011  JAN  NO HOLIDAY     SUN  NO WORKING DAY      MISTY  9.083466   \n",
       "2  WINTER  2011  JAN  NO HOLIDAY     MON     WORKING DAY       GOOD  1.229108   \n",
       "3  WINTER  2011  JAN  NO HOLIDAY     TUE     WORKING DAY       GOOD  1.400000   \n",
       "4  WINTER  2011  JAN  NO HOLIDAY     WED     WORKING DAY       GOOD  2.666979   \n",
       "5  WINTER  2011  JAN  NO HOLIDAY     THU     WORKING DAY       GOOD  1.604356   \n",
       "6  WINTER  2011  JAN  NO HOLIDAY     FRI     WORKING DAY      MISTY  1.236534   \n",
       "7  WINTER  2011  JAN  NO HOLIDAY     SAT  NO WORKING DAY      MISTY -0.245000   \n",
       "8  WINTER  2011  JAN  NO HOLIDAY     SUN  NO WORKING DAY       GOOD -1.498349   \n",
       "9  WINTER  2011  JAN  NO HOLIDAY     MON     WORKING DAY       GOOD -0.910849   \n",
       "\n",
       "       hum  windspeed   cnt  days_since_2011  \n",
       "0  80.5833  10.749882   985                0  \n",
       "1  69.6087  16.652113   801                1  \n",
       "2  43.7273  16.636703  1349                2  \n",
       "3  59.0435  10.739832  1562                3  \n",
       "4  43.6957  12.522300  1600                4  \n",
       "5  51.8261   6.000868  1606                5  \n",
       "6  49.8696  11.304642  1510                6  \n",
       "7  53.5833  17.875868   959                7  \n",
       "8  43.4167  24.250650   822                8  \n",
       "9  48.2917  14.958889  1321                9  "
      ]
     },
     "execution_count": 41,
     "metadata": {},
     "output_type": "execute_result"
    }
   ],
   "source": [
    "bikes_hdf.collect().head(n=10)"
   ]
  },
  {
   "cell_type": "markdown",
   "id": "43b4ebb4-8e3d-43ae-a26d-6f098aa86270",
   "metadata": {},
   "source": [
    "...or `[\"season\"].unique().tolist()` to output [unique values](https://pandas.pydata.org/docs/reference/api/pandas.Series.unique.html#pandas.Series.unique) only from the `season` column [as a list](https://pandas.pydata.org/docs/reference/api/pandas.Series.tolist.html#pandas.Series.tolist)."
   ]
  },
  {
   "cell_type": "code",
   "execution_count": 42,
   "id": "a357f4be-1c6e-4f69-adcd-8a5ae1c20d5c",
   "metadata": {},
   "outputs": [
    {
     "data": {
      "text/plain": [
       "['WINTER', 'SPRING', 'SUMMER', 'FALL']"
      ]
     },
     "execution_count": 42,
     "metadata": {},
     "output_type": "execute_result"
    }
   ],
   "source": [
    "bikes_hdf.collect()[\"season\"].unique().tolist()"
   ]
  },
  {
   "cell_type": "markdown",
   "id": "b5364db7-5e92-4fc5-83e9-ad63e505bc77",
   "metadata": {},
   "source": [
    "The problem with the above approach applying Pandas' data manipulation methods **after** `collect()` -- as in the two cells above -- is that they require **complete** set of data be transferred from a table in SAP HANA database to Python client before data manipulation is applied.\n",
    "\n",
    "Next week you will work on applying data manipulation **before** `collect()` is executed, so that methods are pushed down to be executed in the SAP HANA database and **only results** are returned to the client!\n",
    "\n",
    "### Stay tuned for the Week 3!"
   ]
  },
  {
   "cell_type": "code",
   "execution_count": 43,
   "id": "20289a63-efb4-437b-a9a7-3debacdc7427",
   "metadata": {},
   "outputs": [
    {
     "name": "stdout",
     "output_type": "stream",
     "text": [
      "[('SUMMER',), ('FALL',), ('SPRING',), ('WINTER',)]\n"
     ]
    }
   ],
   "source": [
    "mycursor.execute('select distinct \"season\" from bikes')\n",
    "seasons = mycursor.fetchall()\n",
    "print(seasons)"
   ]
  },
  {
   "cell_type": "code",
   "execution_count": 44,
   "id": "ab6c43d9",
   "metadata": {},
   "outputs": [
    {
     "name": "stdout",
     "output_type": "stream",
     "text": [
      "(731, 12)\n",
      "[['WINTER' 2011 'JAN' ... 10.749882 985 0]\n",
      " ['WINTER' 2011 'JAN' ... 16.652113 801 1]\n",
      " ['WINTER' 2011 'JAN' ... 16.636703 1349 2]\n",
      " ...\n",
      " ['WINTER' 2012 'DEC' ... 8.333661 1341 728]\n",
      " ['WINTER' 2012 'DEC' ... 23.500518 1796 729]\n",
      " ['WINTER' 2012 'DEC' ... 10.374682 2729 730]]\n",
      "(731, 12)\n",
      "season              object\n",
      "yr                   int64\n",
      "mnth                object\n",
      "holiday             object\n",
      "weekday             object\n",
      "workingday          object\n",
      "weathersit          object\n",
      "temp               float64\n",
      "hum                float64\n",
      "windspeed          float64\n",
      "cnt                  int64\n",
      "days_since_2011      int64\n",
      "dtype: object\n",
      "     season    yr mnth     holiday weekday      workingday weathersit  \\\n",
      "0    WINTER  2011  JAN  NO HOLIDAY     SAT  NO WORKING DAY      MISTY   \n",
      "1    WINTER  2011  JAN  NO HOLIDAY     SUN  NO WORKING DAY      MISTY   \n",
      "2    WINTER  2011  JAN  NO HOLIDAY     MON     WORKING DAY       GOOD   \n",
      "3    WINTER  2011  JAN  NO HOLIDAY     TUE     WORKING DAY       GOOD   \n",
      "4    WINTER  2011  JAN  NO HOLIDAY     WED     WORKING DAY       GOOD   \n",
      "..      ...   ...  ...         ...     ...             ...        ...   \n",
      "726  WINTER  2012  DEC  NO HOLIDAY     THU     WORKING DAY      MISTY   \n",
      "727  WINTER  2012  DEC  NO HOLIDAY     FRI     WORKING DAY      MISTY   \n",
      "728  WINTER  2012  DEC  NO HOLIDAY     SAT  NO WORKING DAY      MISTY   \n",
      "729  WINTER  2012  DEC  NO HOLIDAY     SUN  NO WORKING DAY       GOOD   \n",
      "730  WINTER  2012  DEC  NO HOLIDAY     MON     WORKING DAY      MISTY   \n",
      "\n",
      "         temp      hum  windspeed   cnt  days_since_2011  \n",
      "0    8.175849  80.5833  10.749882   985                0  \n",
      "1    9.083466  69.6087  16.652113   801                1  \n",
      "2    1.229108  43.7273  16.636703  1349                2  \n",
      "3    1.400000  59.0435  10.739832  1562                3  \n",
      "4    2.666979  43.6957  12.522300  1600                4  \n",
      "..        ...      ...        ...   ...              ...  \n",
      "726  3.945849  65.2917  23.458911  2114              726  \n",
      "727  3.906651  59.0000  10.416557  3095              727  \n",
      "728  3.906651  75.2917   8.333661  1341              728  \n",
      "729  4.024151  48.3333  23.500518  1796              729  \n",
      "730  2.144151  57.7500  10.374682  2729              730  \n",
      "\n",
      "[731 rows x 12 columns]\n"
     ]
    }
   ],
   "source": [
    "import numpy as np\n",
    "bikes_np = np.array(bikes_hdf.collect())\n",
    "print(bikes_np.shape)\n",
    "print(bikes_np)\n",
    "\n",
    "# import pandas as pd\n",
    "bikes_pd = pd.DataFrame(bikes_hdf.collect())\n",
    "bikes_pd.set_index('days_since_2011')\n",
    "print(bikes_pd.shape)\n",
    "print(bikes_pd.dtypes)\n",
    "print(bikes_pd)"
   ]
  },
  {
   "cell_type": "code",
   "execution_count": 45,
   "id": "d5848119",
   "metadata": {},
   "outputs": [
    {
     "data": {
      "text/plain": [
       "<Axes: ylabel='season'>"
      ]
     },
     "metadata": {},
     "output_type": "display_data"
    },
    {
     "data": {
      "image/png": "[encoded data removed]",
      "text/plain": [
       "<Figure size 640x480 with 1 Axes>"
      ]
     },
     "metadata": {},
     "output_type": "display_data"
    }
   ],
   "source": [
    "bikes_pd_tmp = bikes_pd\n",
    "bikes_pd_tmp = bikes_pd_tmp.sort_values('season')\n",
    "bikes_pd_tmp[\"season\"].unique().tolist()\n",
    "display(bikes_pd_tmp['season'].value_counts().plot(kind='pie'))"
   ]
  },
  {
   "cell_type": "code",
   "execution_count": 46,
   "id": "769cbd7c",
   "metadata": {},
   "outputs": [
    {
     "data": {
      "text/plain": [
       "<Axes: ylabel='holiday'>"
      ]
     },
     "metadata": {},
     "output_type": "display_data"
    },
    {
     "data": {
      "image/png": "[encoded data removed]",
      "text/plain": [
       "<Figure size 640x480 with 1 Axes>"
      ]
     },
     "metadata": {},
     "output_type": "display_data"
    }
   ],
   "source": [
    "display(bikes_pd_tmp['holiday'].value_counts().plot(kind='pie'))"
   ]
  },
  {
   "cell_type": "code",
   "execution_count": 47,
   "id": "73c56d8d",
   "metadata": {},
   "outputs": [
    {
     "data": {
      "text/plain": [
       "<Axes: ylabel='season'>"
      ]
     },
     "execution_count": 47,
     "metadata": {},
     "output_type": "execute_result"
    },
    {
     "data": {
      "image/png": "[encoded data removed]",
      "text/plain": [
       "<Figure size 640x480 with 1 Axes>"
      ]
     },
     "metadata": {},
     "output_type": "display_data"
    }
   ],
   "source": [
    "bikes_pd_tmp.groupby('season').cnt.mean().plot(kind='barh')"
   ]
  },
  {
   "cell_type": "code",
   "execution_count": 48,
   "id": "44ea6de4",
   "metadata": {},
   "outputs": [
    {
     "data": {
      "text/plain": [
       "<Axes: ylabel='season'>"
      ]
     },
     "execution_count": 48,
     "metadata": {},
     "output_type": "execute_result"
    },
    {
     "data": {
      "image/png": "[encoded data removed]",
      "text/plain": [
       "<Figure size 640x480 with 1 Axes>"
      ]
     },
     "metadata": {},
     "output_type": "display_data"
    }
   ],
   "source": [
    "bikes_pd_tmp.groupby('season').temp.mean().plot(kind='barh')"
   ]
  },
  {
   "cell_type": "code",
   "execution_count": 49,
   "id": "4b525732",
   "metadata": {},
   "outputs": [
    {
     "data": {
      "text/plain": [
       "<Axes: ylabel='season'>"
      ]
     },
     "execution_count": 49,
     "metadata": {},
     "output_type": "execute_result"
    },
    {
     "data": {
      "image/png": "[encoded data removed]",
      "text/plain": [
       "<Figure size 640x480 with 1 Axes>"
      ]
     },
     "metadata": {},
     "output_type": "display_data"
    }
   ],
   "source": [
    "bikes_pd_tmp.groupby('season').hum.mean().plot(kind='barh')"
   ]
  },
  {
   "cell_type": "code",
   "execution_count": 50,
   "id": "13c43b09",
   "metadata": {},
   "outputs": [
    {
     "data": {
      "text/plain": [
       "<Axes: ylabel='season'>"
      ]
     },
     "execution_count": 50,
     "metadata": {},
     "output_type": "execute_result"
    },
    {
     "data": {
      "image/png": "[encoded data removed]",
      "text/plain": [
       "<Figure size 640x480 with 1 Axes>"
      ]
     },
     "metadata": {},
     "output_type": "display_data"
    }
   ],
   "source": [
    "bikes_pd_tmp.groupby('season').windspeed.mean().plot(kind='barh')"
   ]
  },
  {
   "cell_type": "code",
   "execution_count": 51,
   "id": "7ada9917",
   "metadata": {},
   "outputs": [
    {
     "name": "stdout",
     "output_type": "stream",
     "text": [
      "2.11.0\n",
      "2.11.0\n"
     ]
    }
   ],
   "source": [
    "import keras\n",
    "print(keras.__version__)\n",
    "import tensorflow as tf\n",
    "print(tf.__version__)"
   ]
  },
  {
   "cell_type": "code",
   "execution_count": 52,
   "id": "bcc7dadb",
   "metadata": {},
   "outputs": [],
   "source": [
    "from sklearn.model_selection import train_test_split\n",
    "dftrain, dftest = train_test_split(bikes_pd, test_size=0.2)\n",
    "dftrain, dfeval = train_test_split(bikes_pd, test_size=0.2)"
   ]
  },
  {
   "cell_type": "code",
   "execution_count": 53,
   "id": "35fc2956",
   "metadata": {},
   "outputs": [],
   "source": [
    "def df_to_dataset(dataframe, shuffle=True, batch_size=32):\n",
    "  dataframe = dataframe.copy()\n",
    "  labels = dataframe.pop('cnt')\n",
    "  ds = tf.data.Dataset.from_tensor_slices((dict(dataframe), labels))\n",
    "  if shuffle:\n",
    "    ds = ds.shuffle(buffer_size=len(dataframe))\n",
    "  ds = ds.batch(batch_size)\n",
    "  return ds"
   ]
  },
  {
   "cell_type": "code",
   "execution_count": 54,
   "id": "3befcab0",
   "metadata": {},
   "outputs": [
    {
     "name": "stderr",
     "output_type": "stream",
     "text": [
      "2023-03-20 17:28:57.939924: W tensorflow/compiler/xla/stream_executor/platform/default/dso_loader.cc:64] Could not load dynamic library 'libcuda.so.1'; dlerror: libcuda.so.1: cannot open shared object file: No such file or directory\n",
      "2023-03-20 17:28:57.939956: W tensorflow/compiler/xla/stream_executor/cuda/cuda_driver.cc:265] failed call to cuInit: UNKNOWN ERROR (303)\n",
      "2023-03-20 17:28:57.939985: I tensorflow/compiler/xla/stream_executor/cuda/cuda_diagnostics.cc:156] kernel driver does not appear to be running on this host (bielefeldto-Latitude-E6440): /proc/driver/nvidia/version does not exist\n",
      "2023-03-20 17:28:57.940339: I tensorflow/core/platform/cpu_feature_guard.cc:193] This TensorFlow binary is optimized with oneAPI Deep Neural Network Library (oneDNN) to use the following CPU instructions in performance-critical operations:  AVX2 FMA\n",
      "To enable them in other operations, rebuild TensorFlow with the appropriate compiler flags.\n"
     ]
    }
   ],
   "source": [
    "batch_size = 128 # A large batch size to run the model\n",
    "train_ds = df_to_dataset(dftrain, batch_size=batch_size)\n",
    "val_ds = df_to_dataset(dfeval, shuffle=False, batch_size=batch_size)\n",
    "test_ds = df_to_dataset(dftest, shuffle=False, batch_size=batch_size)"
   ]
  },
  {
   "cell_type": "code",
   "execution_count": 55,
   "id": "a4ff5580",
   "metadata": {},
   "outputs": [],
   "source": [
    "CATEGORICAL_COLUMNS = ['season', 'holiday']\n",
    "NUMERIC_COLUMNS = ['temp']\n",
    "\n",
    "def one_hot_cat_column(feature_name, vocab):\n",
    "  return tf.feature_column.indicator_column(\n",
    "      tf.feature_column.categorical_column_with_vocabulary_list(feature_name,\n",
    "                                                 vocab))\n",
    "feature_columns = []\n",
    "for feature_name in CATEGORICAL_COLUMNS:\n",
    "  # Need to one-hot encode categorical features.\n",
    "  vocabulary = dftrain[feature_name].unique()\n",
    "  feature_columns.append(one_hot_cat_column(feature_name, vocabulary))\n",
    "for feature_name in NUMERIC_COLUMNS:\n",
    "  feature_columns.append(tf.feature_column.numeric_column(feature_name,\n",
    "                                           dtype=tf.float32))\n",
    "feature_layer = tf.keras.layers.DenseFeatures(feature_columns)\n",
    "\n"
   ]
  },
  {
   "cell_type": "code",
   "execution_count": 71,
   "id": "407b5ee2",
   "metadata": {},
   "outputs": [],
   "source": [
    "model = tf.keras.Sequential([\n",
    "  feature_layer,\n",
    "  keras.layers.Dense(128, activation='relu'),\n",
    "  keras.layers.Dense(64, activation='relu'),\n",
    "  keras.layers.Dense(1, activation='sigmoid')\n",
    "])\n",
    "\n",
    "model.compile(optimizer='rmsprop',\n",
    "              loss='binary_crossentropy',\n",
    "              metrics=['accuracy'])"
   ]
  },
  {
   "cell_type": "code",
   "execution_count": 72,
   "id": "2eabd151",
   "metadata": {},
   "outputs": [
    {
     "name": "stdout",
     "output_type": "stream",
     "text": [
      "Epoch 1/10\n",
      "WARNING:tensorflow:Layers in a Sequential model should only have a single input tensor. Received: inputs={'season': <tf.Tensor 'IteratorGetNext:4' shape=(None,) dtype=string>, 'yr': <tf.Tensor 'IteratorGetNext:10' shape=(None,) dtype=int64>, 'mnth': <tf.Tensor 'IteratorGetNext:3' shape=(None,) dtype=string>, 'holiday': <tf.Tensor 'IteratorGetNext:1' shape=(None,) dtype=string>, 'weekday': <tf.Tensor 'IteratorGetNext:7' shape=(None,) dtype=string>, 'workingday': <tf.Tensor 'IteratorGetNext:9' shape=(None,) dtype=string>, 'weathersit': <tf.Tensor 'IteratorGetNext:6' shape=(None,) dtype=string>, 'temp': <tf.Tensor 'IteratorGetNext:5' shape=(None,) dtype=float64>, 'hum': <tf.Tensor 'IteratorGetNext:2' shape=(None,) dtype=float64>, 'windspeed': <tf.Tensor 'IteratorGetNext:8' shape=(None,) dtype=float64>, 'days_since_2011': <tf.Tensor 'IteratorGetNext:0' shape=(None,) dtype=int64>}. Consider rewriting this model with the Functional API.\n",
      "WARNING:tensorflow:Layers in a Sequential model should only have a single input tensor. Received: inputs={'season': <tf.Tensor 'IteratorGetNext:4' shape=(None,) dtype=string>, 'yr': <tf.Tensor 'IteratorGetNext:10' shape=(None,) dtype=int64>, 'mnth': <tf.Tensor 'IteratorGetNext:3' shape=(None,) dtype=string>, 'holiday': <tf.Tensor 'IteratorGetNext:1' shape=(None,) dtype=string>, 'weekday': <tf.Tensor 'IteratorGetNext:7' shape=(None,) dtype=string>, 'workingday': <tf.Tensor 'IteratorGetNext:9' shape=(None,) dtype=string>, 'weathersit': <tf.Tensor 'IteratorGetNext:6' shape=(None,) dtype=string>, 'temp': <tf.Tensor 'IteratorGetNext:5' shape=(None,) dtype=float64>, 'hum': <tf.Tensor 'IteratorGetNext:2' shape=(None,) dtype=float64>, 'windspeed': <tf.Tensor 'IteratorGetNext:8' shape=(None,) dtype=float64>, 'days_since_2011': <tf.Tensor 'IteratorGetNext:0' shape=(None,) dtype=int64>}. Consider rewriting this model with the Functional API.\n",
      "1/5 [=====>........................] - ETA: 2s - loss: 1752.8162 - accuracy: 0.0000e+00WARNING:tensorflow:Layers in a Sequential model should only have a single input tensor. Received: inputs={'season': <tf.Tensor 'IteratorGetNext:4' shape=(None,) dtype=string>, 'yr': <tf.Tensor 'IteratorGetNext:10' shape=(None,) dtype=int64>, 'mnth': <tf.Tensor 'IteratorGetNext:3' shape=(None,) dtype=string>, 'holiday': <tf.Tensor 'IteratorGetNext:1' shape=(None,) dtype=string>, 'weekday': <tf.Tensor 'IteratorGetNext:7' shape=(None,) dtype=string>, 'workingday': <tf.Tensor 'IteratorGetNext:9' shape=(None,) dtype=string>, 'weathersit': <tf.Tensor 'IteratorGetNext:6' shape=(None,) dtype=string>, 'temp': <tf.Tensor 'IteratorGetNext:5' shape=(None,) dtype=float64>, 'hum': <tf.Tensor 'IteratorGetNext:2' shape=(None,) dtype=float64>, 'windspeed': <tf.Tensor 'IteratorGetNext:8' shape=(None,) dtype=float64>, 'days_since_2011': <tf.Tensor 'IteratorGetNext:0' shape=(None,) dtype=int64>}. Consider rewriting this model with the Functional API.\n",
      "5/5 [==============================] - 1s 45ms/step - loss: -16436.8730 - accuracy: 0.0000e+00 - val_loss: -43153.0820 - val_accuracy: 0.0000e+00\n",
      "Epoch 2/10\n",
      "5/5 [==============================] - 0s 6ms/step - loss: -53988.3828 - accuracy: 0.0000e+00 - val_loss: -77937.1328 - val_accuracy: 0.0000e+00\n",
      "Epoch 3/10\n",
      "5/5 [==============================] - 0s 10ms/step - loss: -87281.1953 - accuracy: 0.0000e+00 - val_loss: -112550.5391 - val_accuracy: 0.0000e+00\n",
      "Epoch 4/10\n",
      "5/5 [==============================] - 0s 8ms/step - loss: -121563.5312 - accuracy: 0.0000e+00 - val_loss: -150610.6562 - val_accuracy: 0.0000e+00\n",
      "Epoch 5/10\n",
      "5/5 [==============================] - 0s 9ms/step - loss: -159939.6562 - accuracy: 0.0000e+00 - val_loss: -193141.5312 - val_accuracy: 0.0000e+00\n",
      "Epoch 6/10\n",
      "5/5 [==============================] - 0s 9ms/step - loss: -202790.6562 - accuracy: 0.0000e+00 - val_loss: -240648.4062 - val_accuracy: 0.0000e+00\n",
      "Epoch 7/10\n",
      "5/5 [==============================] - 0s 7ms/step - loss: -250834.7344 - accuracy: 0.0000e+00 - val_loss: -294436.6250 - val_accuracy: 0.0000e+00\n",
      "Epoch 8/10\n",
      "5/5 [==============================] - 0s 12ms/step - loss: -304650.5312 - accuracy: 0.0000e+00 - val_loss: -353004.6875 - val_accuracy: 0.0000e+00\n",
      "Epoch 9/10\n",
      "5/5 [==============================] - 0s 9ms/step - loss: -362980.3438 - accuracy: 0.0000e+00 - val_loss: -416359.6562 - val_accuracy: 0.0000e+00\n",
      "Epoch 10/10\n",
      "5/5 [==============================] - 0s 9ms/step - loss: -426296.2812 - accuracy: 0.0000e+00 - val_loss: -485463.5000 - val_accuracy: 0.0000e+00\n"
     ]
    },
    {
     "data": {
      "text/plain": [
       "<keras.callbacks.History at 0x7f480414a520>"
      ]
     },
     "execution_count": 72,
     "metadata": {},
     "output_type": "execute_result"
    }
   ],
   "source": [
    "model.fit(train_ds, validation_data=val_ds, epochs=10)"
   ]
  },
  {
   "cell_type": "code",
   "execution_count": 73,
   "id": "75e47fda",
   "metadata": {},
   "outputs": [
    {
     "name": "stdout",
     "output_type": "stream",
     "text": [
      "dict_keys(['loss', 'accuracy', 'val_loss', 'val_accuracy'])\n"
     ]
    },
    {
     "data": {
      "image/png": "[encoded data removed]",
      "text/plain": [
       "<Figure size 640x480 with 1 Axes>"
      ]
     },
     "metadata": {},
     "output_type": "display_data"
    }
   ],
   "source": [
    "import matplotlib.pyplot as plt\n",
    "history_dict = model.history.history\n",
    "print(history_dict.keys())\n",
    "loss_values = history_dict['loss']\n",
    "val_loss_values = history_dict['val_loss']\n",
    "epochs = range(1, len(loss_values) + 1)\n",
    "plt.plot(epochs, loss_values, 'bo', label='Training loss')\n",
    "plt.plot(epochs, val_loss_values, 'b', label='Validation loss')\n",
    "plt.title('Training and validation loss')\n",
    "plt.xlabel('Epochs')\n",
    "plt.ylabel('Loss')\n",
    "plt.legend()\n",
    "plt.show()"
   ]
  },
  {
   "cell_type": "code",
   "execution_count": 74,
   "id": "8c88ec0b",
   "metadata": {},
   "outputs": [
    {
     "name": "stdout",
     "output_type": "stream",
     "text": [
      "2/2 [==============================] - 0s 5ms/step - loss: -494413.1250 - accuracy: 0.0000e+00\n",
      "Accuracy 0.0\n"
     ]
    }
   ],
   "source": [
    "loss, accuracy = model.evaluate(test_ds)\n",
    "print(\"Accuracy\", accuracy) "
   ]
  },
  {
   "cell_type": "code",
   "execution_count": 76,
   "id": "6ba8c850",
   "metadata": {},
   "outputs": [
    {
     "name": "stdout",
     "output_type": "stream",
     "text": [
      "Every feature: ['season', 'yr', 'mnth', 'holiday', 'weekday', 'workingday', 'weathersit', 'temp', 'hum', 'windspeed', 'days_since_2011']\n",
      "A batch of seasons: tf.Tensor(\n",
      "[b'SUMMER' b'SUMMER' b'FALL' b'SPRING' b'SUMMER' b'WINTER' b'SUMMER'\n",
      " b'SUMMER' b'SPRING' b'SUMMER' b'SUMMER' b'SPRING' b'SPRING' b'SPRING'\n",
      " b'FALL' b'SUMMER' b'WINTER' b'WINTER' b'SUMMER' b'FALL' b'SPRING'\n",
      " b'SUMMER' b'SPRING' b'WINTER' b'SUMMER' b'SPRING' b'SUMMER' b'SPRING'\n",
      " b'SUMMER' b'FALL' b'SUMMER' b'WINTER' b'WINTER' b'SUMMER' b'SPRING'\n",
      " b'SUMMER' b'WINTER' b'SPRING' b'WINTER' b'SUMMER' b'SUMMER' b'WINTER'\n",
      " b'FALL' b'SPRING' b'FALL' b'WINTER' b'SUMMER' b'FALL' b'FALL' b'WINTER'\n",
      " b'FALL' b'WINTER' b'SUMMER' b'FALL' b'SUMMER' b'SUMMER' b'SUMMER'\n",
      " b'SUMMER' b'WINTER' b'SPRING' b'WINTER' b'FALL' b'SUMMER' b'WINTER'\n",
      " b'SUMMER' b'SUMMER' b'WINTER' b'SUMMER' b'WINTER' b'WINTER' b'SPRING'\n",
      " b'SUMMER' b'WINTER' b'SUMMER' b'WINTER' b'SPRING' b'FALL' b'SPRING'\n",
      " b'FALL' b'SPRING' b'SPRING' b'SUMMER' b'SPRING' b'SPRING' b'WINTER'\n",
      " b'FALL' b'FALL' b'FALL' b'SUMMER' b'WINTER' b'SPRING' b'SPRING' b'SUMMER'\n",
      " b'SPRING' b'WINTER' b'SUMMER' b'SPRING' b'SUMMER' b'FALL' b'FALL'\n",
      " b'SPRING' b'WINTER' b'SUMMER' b'FALL' b'FALL' b'SUMMER' b'FALL' b'SPRING'\n",
      " b'WINTER' b'FALL' b'FALL' b'FALL' b'SPRING' b'FALL' b'SPRING' b'SPRING'\n",
      " b'FALL' b'SPRING' b'SPRING' b'SPRING' b'SPRING' b'SPRING' b'SUMMER'\n",
      " b'WINTER' b'SPRING' b'WINTER' b'FALL' b'SPRING'], shape=(128,), dtype=string)\n",
      "A batch of counts: tf.Tensor(\n",
      "[4840 7112 7570 3126 6830 1301 4294 5531 5698 4795 4694  795 3429 4833\n",
      " 2659 6660 2169 5298 5464 5047 4862 8173 4717 5382 4656 7129 7592 6664\n",
      " 7403 4381 4592 3487 1107 5345 5936 6869 2744 5409 2485 4475 5255 1162\n",
      " 5041 5180 3649 2802 3351 5501 4570 1013 8555 1321 6591 3053 6203 4541\n",
      " 4086 5538 2927 3115 1349 4639 4760 6312 4672 6290 4509 8167 1501 2660\n",
      " 3249 5046 3068 7720 2077 6421 7282 6370 2933 2210 5459 6864 6273 4972\n",
      " 1341 5260 6606 2425 4459 1317 4803 6565 4549 3915 2832 5870 4586 5463\n",
      " 2416 8156 2227 2192 6043 5445 2792 4727 5557 5918 5892 3614 3613 3523\n",
      " 6598 6536 5020 4608 4109 6591 5099 6169 2425 6857 5923 3129 4996 6093\n",
      " 2765 6734], shape=(128,), dtype=int64)\n"
     ]
    }
   ],
   "source": [
    "for feature_batch, label_batch in test_ds.take(1):\n",
    "  print('Every feature:', list(feature_batch.keys()))\n",
    "  print('A batch of seasons:', feature_batch['season'])\n",
    "  print('A batch of counts:', label_batch )"
   ]
  },
  {
   "cell_type": "code",
   "execution_count": 86,
   "id": "6e0f8b90",
   "metadata": {},
   "outputs": [
    {
     "name": "stdout",
     "output_type": "stream",
     "text": [
      "2/2 [==============================] - 0s 4ms/step\n",
      "Model estimates 1.0.\n",
      "Model estimates 1.0.\n",
      "Model estimates 1.0.\n",
      "Model estimates 1.0.\n",
      "Model estimates 1.0.\n",
      "Model estimates 0.9999971985816956.\n",
      "Model estimates 1.0.\n",
      "Model estimates 1.0.\n",
      "Model estimates 1.0.\n",
      "Model estimates 1.0.\n"
     ]
    }
   ],
   "source": [
    "pred = model.predict(test_ds)\n",
    "for index in range(0,10):\n",
    "  print(f'Model estimates {pred[index][0]}.')"
   ]
  }
 ],
 "metadata": {
  "kernelspec": {
   "display_name": "Python 3 (ipykernel)",
   "language": "python",
   "name": "python3"
  },
  "language_info": {
   "codemirror_mode": {
    "name": "ipython",
    "version": 3
   },
   "file_extension": ".py",
   "mimetype": "text/x-python",
   "name": "python",
   "nbconvert_exporter": "python",
   "pygments_lexer": "ipython3",
   "version": "3.8.10"
  }
 },
 "nbformat": 4,
 "nbformat_minor": 5
}
