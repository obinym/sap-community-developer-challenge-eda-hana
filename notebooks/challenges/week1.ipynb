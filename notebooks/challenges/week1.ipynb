{
 "cells": [
  {
   "cell_type": "markdown",
   "id": "51185e33-47ce-455b-b392-531cbf1b93fa",
   "metadata": {},
   "source": [
    "## Welcome to Week 1"
   ]
  },
  {
   "cell_type": "markdown",
   "id": "8fe13522-e219-417d-915f-93612d450b40",
   "metadata": {},
   "source": [
    "### Check a version of Python\n",
    "\n",
    "The version of Python should be between 3.7 and 3.10 inclusive."
   ]
  },
  {
   "cell_type": "code",
   "execution_count": 1,
   "id": "58f7ef2a-676e-4ef8-aa63-04dbdf8d7b0c",
   "metadata": {},
   "outputs": [
    {
     "name": "stdout",
     "output_type": "stream",
     "text": [
      "Python 3.8.10\r\n"
     ]
    }
   ],
   "source": [
    "!python -V"
   ]
  },
  {
   "cell_type": "markdown",
   "id": "7fb31a18-42cd-4929-9e33-ac6c2713ae36",
   "metadata": {},
   "source": [
    "### Check required packages\n",
    "\n",
    "The version of the package `hana_ml` should be at minimum 2.15"
   ]
  },
  {
   "cell_type": "code",
   "execution_count": 2,
   "id": "bc49d450-e627-4c08-9343-1c158e33305c",
   "metadata": {},
   "outputs": [
    {
     "name": "stdout",
     "output_type": "stream",
     "text": [
      "The package version:  2.16.23031601\n",
      "POLYGON ((10 0, 9.95184726672197 -0.980171403295606, 9.807852804032304 -1.9509032201612824, 9.569403357322088 -2.902846772544623, 9.238795325112868 -3.826834323650898, 8.819212643483551 -4.7139673682599765, 8.314696123025453 -5.555702330196022, 7.73010453362737 -6.343932841636455, 7.0710678118654755 -7.071067811865475, 6.343932841636455 -7.73010453362737, 5.555702330196023 -8.314696123025453, 4.713967368259978 -8.81921264348355, 3.8268343236508984 -9.238795325112868, 2.902846772544623 -9.56940335732209, 1.9509032201612833 -9.807852804032304, 0.9801714032956077 -9.951847266721968, 0.0000000000000006 -10, -0.9801714032956065 -9.95184726672197, -1.950903220161282 -9.807852804032304, -2.9028467725446214 -9.56940335732209, -3.826834323650897 -9.238795325112868, -4.713967368259977 -8.819212643483551, -5.55570233019602 -8.314696123025454, -6.3439328416364535 -7.730104533627371, -7.071067811865475 -7.0710678118654755, -7.73010453362737 -6.343932841636455, -8.314696123025453 -5.555702330196022, -8.81921264348355 -4.713967368259978, -9.238795325112868 -3.826834323650899, -9.569403357322088 -2.902846772544624, -9.807852804032304 -1.9509032201612861, -9.951847266721968 -0.9801714032956083, -10 -0.0000000000000012, -9.95184726672197 0.9801714032956059, -9.807852804032304 1.9509032201612837, -9.56940335732209 2.902846772544621, -9.238795325112868 3.8268343236508966, -8.819212643483551 4.7139673682599765, -8.314696123025454 5.55570233019602, -7.730104533627371 6.343932841636453, -7.071067811865477 7.071067811865475, -6.343932841636459 7.730104533627367, -5.555702330196022 8.314696123025453, -4.713967368259978 8.81921264348355, -3.8268343236509033 9.238795325112864, -2.9028467725446245 9.569403357322088, -1.9509032201612866 9.807852804032303, -0.9801714032956045 9.95184726672197, -0.0000000000000018 10, 0.9801714032956009 9.95184726672197, 1.950903220161283 9.807852804032304, 2.9028467725446205 9.56940335732209, 3.8268343236509 9.238795325112866, 4.713967368259976 8.819212643483551, 5.555702330196018 8.314696123025454, 6.343932841636456 7.730104533627369, 7.071067811865474 7.071067811865477, 7.730104533627367 6.343932841636459, 8.314696123025453 5.555702330196022, 8.819212643483548 4.713967368259979, 9.238795325112864 3.826834323650904, 9.569403357322088 2.902846772544625, 9.807852804032303 1.9509032201612873, 9.95184726672197 0.980171403295605, 10 0)) 313.6548490545941\n",
      "[False  True False]\n"
     ]
    }
   ],
   "source": [
    "import hana_ml\n",
    "print(\"The package version: \", hana_ml.__version__)\n",
    "\n",
    "# fresh install of python virtualenv on ubuntu 20.04 requires additional installation of shapely via pip - \n",
    "\n",
    "# some shapely test\n",
    "\n",
    "import shapely\n",
    "from shapely import Point\n",
    "patch = Point(0.0, 0.0).buffer(10.0)\n",
    "print(patch,patch.area)\n",
    "import numpy as np\n",
    "geoms = np.array([Point(0, 0), Point(1, 1), Point(2, 2)])\n",
    "polygon = shapely.box(0, 0, 2, 2)\n",
    "print(shapely.contains(polygon, geoms))"
   ]
  },
  {
   "cell_type": "markdown",
   "id": "32f61769-8a9b-4cf6-97ff-f9920486fa13",
   "metadata": {},
   "source": [
    "### Import required packages\n",
    "\n",
    "There should be no error messages after the execution of the cell below"
   ]
  },
  {
   "cell_type": "code",
   "execution_count": 3,
   "id": "524e1912-75f4-4914-83b1-f4dbcfdb27f4",
   "metadata": {},
   "outputs": [],
   "source": [
    "from hana_ml import dataframe as hdf"
   ]
  },
  {
   "cell_type": "markdown",
   "id": "d10707dd-87c9-4012-835b-c3b07260ed4d",
   "metadata": {},
   "source": [
    "### Connect to SAP HANA database instance with a database user\n",
    "\n",
    "If the connection is successful, then you should see the version of the SAP HANA database instance your user is connected to.\n",
    "\n",
    "Please note that the command used in this cell requires a user key `DevChallenger` created in the SAP HANA Client's user store on your client.\n",
    "\n",
    "If the user key you have created is different than `DevChallenger`, then replace the **`userkey`** value in the command with your value."
   ]
  },
  {
   "cell_type": "code",
   "execution_count": 4,
   "id": "675fa598-247a-4854-a150-110d3f93d597",
   "metadata": {},
   "outputs": [
    {
     "name": "stdout",
     "output_type": "stream",
     "text": [
      "SAP HANA DB version:  4.00.000.00.1678185420 (fa/CE2022.42)\n"
     ]
    }
   ],
   "source": [
    "myconn=hdf.ConnectionContext(userkey='DevChallenger')\n",
    "print(\"SAP HANA DB version: \", myconn.hana_version())\n",
    "\n",
    "# Remember to restart HANA DB every working day if in trial mode\n",
    "# SSL was a hassle - created trust.pem according to guide - not sure anymore that was required"
   ]
  },
  {
   "cell_type": "markdown",
   "id": "a8e4ec49-86d4-42e7-b403-5083c22f4d1d",
   "metadata": {},
   "source": [
    "### Check the time on the server.\n",
    "\n",
    "You should get the output of the time stamp of the current time on the SAP HANA database server, like\n",
    "```\n",
    "2023-03-06 16:21:33.660000\n",
    "```"
   ]
  },
  {
   "cell_type": "code",
   "execution_count": 7,
   "id": "f71a0f00-1428-4d01-92ab-65b90dc7f6fe",
   "metadata": {},
   "outputs": [
    {
     "name": "stdout",
     "output_type": "stream",
     "text": [
      "Hello SQL\n",
      "2023-03-20 09:30:32.437000\n"
     ]
    }
   ],
   "source": [
    "print('Hello SQL')\n",
    "print(myconn.sql(\"SELECT NOW() FROM DUMMY\").collect().CURRENT_TIMESTAMP[0])\n",
    "\n"
   ]
  },
  {
   "cell_type": "markdown",
   "id": "0cc5b641",
   "metadata": {},
   "source": [
    "This is the end"
   ]
  }
 ],
 "metadata": {
  "kernelspec": {
   "display_name": "Python 3 (ipykernel)",
   "language": "python",
   "name": "python3"
  },
  "language_info": {
   "codemirror_mode": {
    "name": "ipython",
    "version": 3
   },
   "file_extension": ".py",
   "mimetype": "text/x-python",
   "name": "python",
   "nbconvert_exporter": "python",
   "pygments_lexer": "ipython3",
   "version": "3.8.10"
  }
 },
 "nbformat": 4,
 "nbformat_minor": 5
}
